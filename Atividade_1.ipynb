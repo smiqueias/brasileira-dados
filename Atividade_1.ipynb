{
  "nbformat": 4,
  "nbformat_minor": 0,
  "metadata": {
    "colab": {
      "provenance": [],
      "authorship_tag": "ABX9TyOW4kvmYhcuj0me0TgVmXAV",
      "include_colab_link": true
    },
    "kernelspec": {
      "name": "python3",
      "display_name": "Python 3"
    },
    "language_info": {
      "name": "python"
    }
  },
  "cells": [
    {
      "cell_type": "markdown",
      "metadata": {
        "id": "view-in-github",
        "colab_type": "text"
      },
      "source": [
        "<a href=\"https://colab.research.google.com/github/smiqueias/brasileira-dados/blob/master/Atividade_1.ipynb\" target=\"_parent\"><img src=\"https://colab.research.google.com/assets/colab-badge.svg\" alt=\"Open In Colab\"/></a>"
      ]
    },
    {
      "cell_type": "code",
      "execution_count": 37,
      "metadata": {
        "colab": {
          "base_uri": "https://localhost:8080/"
        },
        "id": "o9aGgFzeh7vP",
        "outputId": "24b27b68-9163-461e-d005-a21aa2501e68"
      },
      "outputs": [
        {
          "output_type": "execute_result",
          "data": {
            "text/plain": [
              "Fred    39\n",
              "Name: atleta, dtype: int64"
            ]
          },
          "metadata": {},
          "execution_count": 37
        }
      ],
      "source": [
        "# Questão 1\n",
        "\n",
        "import pandas as pd\n",
        "brasileirao_gols = pd.read_csv(\n",
        "    \"https://raw.githubusercontent.com/smiqueias/brasileira-dados/master/campeonato-brasileiro-gols.csv\")\n",
        "filtraPeloFluminense = brasileirao_gols['clube'] == 'Fluminense'\n",
        "gols_fluminense = brasileirao_gols[filtraPeloFluminense]\n",
        "gols_fluminense['atleta'].value_counts().iloc[:1]"
      ]
    },
    {
      "cell_type": "code",
      "source": [
        "# Questão 2\n",
        "import pandas as pd\n",
        "brasileirao_gols = pd.read_csv(\n",
        "    \"https://raw.githubusercontent.com/smiqueias/brasileira-dados/master/campeonato-brasileiro-gols.csv\")\n",
        "filtraPeloInternacional = brasileirao_gols['clube'] == 'Internacional'\n",
        "brasileirao_gols[filtraPeloInternacional].count()"
      ],
      "metadata": {
        "colab": {
          "base_uri": "https://localhost:8080/"
        },
        "id": "1v2nxF1iryJ1",
        "outputId": "0db46093-eb2f-4c66-90c5-e6a696698096"
      },
      "execution_count": 39,
      "outputs": [
        {
          "output_type": "execute_result",
          "data": {
            "text/plain": [
              "partida_id    327\n",
              "rodada        327\n",
              "clube         327\n",
              "atleta        327\n",
              "minuto        327\n",
              "dtype: int64"
            ]
          },
          "metadata": {},
          "execution_count": 39
        }
      ]
    },
    {
      "cell_type": "code",
      "source": [
        "# Questão 3\n",
        "import pandas as pd\n",
        "brasileirao_gols = pd.read_csv(\n",
        "    \"https://raw.githubusercontent.com/smiqueias/brasileira-dados/master/campeonato-brasileiro-gols.csv\")\n",
        "filtraPeloFluminense = brasileirao_gols['clube'] == 'Fluminense'\n",
        "gols_fluminense = brasileirao_gols[filtraPeloFluminense]\n",
        "gols_fluminense['atleta'].value_counts().iloc[:1]"
      ],
      "metadata": {
        "colab": {
          "base_uri": "https://localhost:8080/"
        },
        "id": "P2H74MBIr4CN",
        "outputId": "9d83822d-be32-4b61-e45c-570ec7e03efa"
      },
      "execution_count": 41,
      "outputs": [
        {
          "output_type": "execute_result",
          "data": {
            "text/plain": [
              "Fred    39\n",
              "Name: atleta, dtype: int64"
            ]
          },
          "metadata": {},
          "execution_count": 41
        }
      ]
    },
    {
      "cell_type": "code",
      "source": [
        "# Questão 4\n",
        "import pandas as pd\n",
        "brasileirao_cartoes = pd.read_csv(\n",
        "    \"https://raw.githubusercontent.com/smiqueias/brasileira-dados/master/campeonato-brasileiro-cartoes.csv\")\n",
        "filtraPeloFlamengo = brasileirao_cartoes['clube'] == 'Flamengo'\n",
        "brasileirao_cartoes[filtraPeloFlamengo].count()['cartao']"
      ],
      "metadata": {
        "colab": {
          "base_uri": "https://localhost:8080/"
        },
        "id": "i0xvr4BVr6WN",
        "outputId": "c4950b36-7427-4dc5-e947-7bc4cb9c75fd"
      },
      "execution_count": 47,
      "outputs": [
        {
          "output_type": "execute_result",
          "data": {
            "text/plain": [
              "676"
            ]
          },
          "metadata": {},
          "execution_count": 47
        }
      ]
    },
    {
      "cell_type": "code",
      "source": [
        "# Questão 5\n",
        "import pandas as pd\n",
        "brasileirao_cartoes = pd.read_csv(\n",
        "    \"https://raw.githubusercontent.com/smiqueias/brasileira-dados/master/campeonato-brasileiro-cartoes.csv\")\n",
        "filtraPeloGremio = brasileirao_cartoes['clube'] == 'Gremio'\n",
        "cartoes_gremio = brasileirao_cartoes[filtraPeloGremio]\n",
        "cartoes_gremio.query('cartao == \"Amarelo\"')['atleta'].value_counts()[:1]"
      ],
      "metadata": {
        "colab": {
          "base_uri": "https://localhost:8080/"
        },
        "id": "eRACNxIOslIM",
        "outputId": "77be6981-7e5c-4fab-d257-5cd00ef5e22b"
      },
      "execution_count": 119,
      "outputs": [
        {
          "output_type": "execute_result",
          "data": {
            "text/plain": [
              "Walter Kannemann    44\n",
              "Name: atleta, dtype: int64"
            ]
          },
          "metadata": {},
          "execution_count": 119
        }
      ]
    },
    {
      "cell_type": "code",
      "source": [
        "# Questão 6\n",
        "import pandas as pd\n",
        "brasileirao_cartoes = pd.read_csv(\n",
        "    \"https://raw.githubusercontent.com/smiqueias/brasileira-dados/master/campeonato-brasileiro-cartoes.csv\")\n",
        "filtraPeloGoleiro = brasileirao_cartoes['posicao'] == 'Goleiro'\n",
        "brasileirao_goleiros = brasileirao_cartoes[filtraPeloGoleiro]\n",
        "brasileirao_goleiros['atleta'].value_counts().iloc[:1]"
      ],
      "metadata": {
        "colab": {
          "base_uri": "https://localhost:8080/"
        },
        "id": "ZkkeXYXjv4wd",
        "outputId": "2fe109d7-7fcd-41b8-c61d-f7a38c2ee7f5"
      },
      "execution_count": 73,
      "outputs": [
        {
          "output_type": "execute_result",
          "data": {
            "text/plain": [
              "Cássio Ramos    26\n",
              "Name: atleta, dtype: int64"
            ]
          },
          "metadata": {},
          "execution_count": 73
        }
      ]
    },
    {
      "cell_type": "code",
      "source": [
        "# Questão 7\n",
        "import pandas as pd\n",
        "brasileirao_cartoes = pd.read_csv(\n",
        "    \"https://raw.githubusercontent.com/smiqueias/brasileira-dados/master/campeonato-brasileiro-cartoes.csv\")\n",
        "filtraPeloSantos = brasileirao_cartoes['clube'] == 'Santos'\n",
        "brasileirao_cartoes[filtraPeloSantos].query('cartao == \"Vermelho\"')['minuto'].min()"
      ],
      "metadata": {
        "colab": {
          "base_uri": "https://localhost:8080/",
          "height": 35
        },
        "id": "xh7cwQ2kw9qN",
        "outputId": "42f53152-861e-4cb4-f5f4-014d356dd031"
      },
      "execution_count": 105,
      "outputs": [
        {
          "output_type": "execute_result",
          "data": {
            "text/plain": [
              "'28'"
            ],
            "application/vnd.google.colaboratory.intrinsic+json": {
              "type": "string"
            }
          },
          "metadata": {},
          "execution_count": 105
        }
      ]
    },
    {
      "cell_type": "code",
      "source": [
        "# Questão 8\n",
        "import pandas as pd\n",
        "brasileirao_dados = pd.read_csv(\n",
        "    \"https://raw.githubusercontent.com/smiqueias/brasileira-dados/master/campeonato-brasileiro-estatisticas-full.csv\")\n",
        "\n",
        "filtraPeloCorinthians = brasileirao_dados['clube'] == 'Corinthians'\n",
        "\n",
        "brasileirao_dados[filtraPeloCorinthians]['chutes_no_alvo'].sum()"
      ],
      "metadata": {
        "colab": {
          "base_uri": "https://localhost:8080/"
        },
        "id": "RIzgUE5X0scN",
        "outputId": "e4efdb52-79f8-4193-ab36-abbc74f18c92"
      },
      "execution_count": 112,
      "outputs": [
        {
          "output_type": "execute_result",
          "data": {
            "text/plain": [
              "771"
            ]
          },
          "metadata": {},
          "execution_count": 112
        }
      ]
    },
    {
      "cell_type": "code",
      "source": [
        "# Questão 9\n",
        "import pandas as pd\n",
        "brasileirao_gols = pd.read_csv(\n",
        "    \"https://raw.githubusercontent.com/smiqueias/brasileira-dados/master/campeonato-brasileiro-gols.csv\")\n",
        "\n",
        "filtraPeloVasco = brasileirao_gols['clube'] == 'Vasco'\n",
        "\n",
        "brasileirao_gols[filtraPeloVasco]['minuto'].min()"
      ],
      "metadata": {
        "colab": {
          "base_uri": "https://localhost:8080/",
          "height": 35
        },
        "id": "fHCC5P1a3KTG",
        "outputId": "1d41a41a-3eb6-49ec-f3d4-2bcf1b295701"
      },
      "execution_count": 117,
      "outputs": [
        {
          "output_type": "execute_result",
          "data": {
            "text/plain": [
              "'10'"
            ],
            "application/vnd.google.colaboratory.intrinsic+json": {
              "type": "string"
            }
          },
          "metadata": {},
          "execution_count": 117
        }
      ]
    }
  ]
}